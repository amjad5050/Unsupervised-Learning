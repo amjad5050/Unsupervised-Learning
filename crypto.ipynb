{
 "cells": [
  {
   "cell_type": "code",
   "execution_count": 64,
   "id": "caa6f8bc",
   "metadata": {},
   "outputs": [],
   "source": [
    "import pandas as pd\n",
    "from sklearn.decomposition import PCA\n",
    "import matplotlib.pyplot as plt\n"
   ]
  },
  {
   "cell_type": "code",
   "execution_count": 65,
   "id": "1a6bb7c8",
   "metadata": {},
   "outputs": [],
   "source": [
    "df=pd.read_csv(\"./Resources/crypto_data.csv\")"
   ]
  },
  {
   "cell_type": "code",
   "execution_count": 66,
   "id": "dcf2432f",
   "metadata": {
    "scrolled": true
   },
   "outputs": [
    {
     "name": "stdout",
     "output_type": "stream",
     "text": [
      "<class 'pandas.core.frame.DataFrame'>\n",
      "RangeIndex: 1252 entries, 0 to 1251\n",
      "Data columns (total 7 columns):\n",
      " #   Column           Non-Null Count  Dtype  \n",
      "---  ------           --------------  -----  \n",
      " 0   Unnamed: 0       1252 non-null   object \n",
      " 1   CoinName         1252 non-null   object \n",
      " 2   Algorithm        1252 non-null   object \n",
      " 3   IsTrading        1252 non-null   bool   \n",
      " 4   ProofType        1252 non-null   object \n",
      " 5   TotalCoinsMined  744 non-null    float64\n",
      " 6   TotalCoinSupply  1252 non-null   object \n",
      "dtypes: bool(1), float64(1), object(5)\n",
      "memory usage: 60.0+ KB\n"
     ]
    }
   ],
   "source": [
    "df.info()"
   ]
  },
  {
   "cell_type": "code",
   "execution_count": 67,
   "id": "70a11739",
   "metadata": {},
   "outputs": [
    {
     "data": {
      "text/html": [
       "<div>\n",
       "<style scoped>\n",
       "    .dataframe tbody tr th:only-of-type {\n",
       "        vertical-align: middle;\n",
       "    }\n",
       "\n",
       "    .dataframe tbody tr th {\n",
       "        vertical-align: top;\n",
       "    }\n",
       "\n",
       "    .dataframe thead th {\n",
       "        text-align: right;\n",
       "    }\n",
       "</style>\n",
       "<table border=\"1\" class=\"dataframe\">\n",
       "  <thead>\n",
       "    <tr style=\"text-align: right;\">\n",
       "      <th></th>\n",
       "      <th>Unnamed: 0</th>\n",
       "      <th>CoinName</th>\n",
       "      <th>Algorithm</th>\n",
       "      <th>IsTrading</th>\n",
       "      <th>ProofType</th>\n",
       "      <th>TotalCoinsMined</th>\n",
       "      <th>TotalCoinSupply</th>\n",
       "    </tr>\n",
       "  </thead>\n",
       "  <tbody>\n",
       "    <tr>\n",
       "      <th>0</th>\n",
       "      <td>42</td>\n",
       "      <td>42 Coin</td>\n",
       "      <td>Scrypt</td>\n",
       "      <td>True</td>\n",
       "      <td>PoW/PoS</td>\n",
       "      <td>4.199995e+01</td>\n",
       "      <td>42</td>\n",
       "    </tr>\n",
       "    <tr>\n",
       "      <th>1</th>\n",
       "      <td>365</td>\n",
       "      <td>365Coin</td>\n",
       "      <td>X11</td>\n",
       "      <td>True</td>\n",
       "      <td>PoW/PoS</td>\n",
       "      <td>NaN</td>\n",
       "      <td>2300000000</td>\n",
       "    </tr>\n",
       "    <tr>\n",
       "      <th>2</th>\n",
       "      <td>404</td>\n",
       "      <td>404Coin</td>\n",
       "      <td>Scrypt</td>\n",
       "      <td>True</td>\n",
       "      <td>PoW/PoS</td>\n",
       "      <td>1.055185e+09</td>\n",
       "      <td>532000000</td>\n",
       "    </tr>\n",
       "    <tr>\n",
       "      <th>3</th>\n",
       "      <td>611</td>\n",
       "      <td>SixEleven</td>\n",
       "      <td>SHA-256</td>\n",
       "      <td>True</td>\n",
       "      <td>PoW</td>\n",
       "      <td>NaN</td>\n",
       "      <td>611000</td>\n",
       "    </tr>\n",
       "    <tr>\n",
       "      <th>4</th>\n",
       "      <td>808</td>\n",
       "      <td>808</td>\n",
       "      <td>SHA-256</td>\n",
       "      <td>True</td>\n",
       "      <td>PoW/PoS</td>\n",
       "      <td>0.000000e+00</td>\n",
       "      <td>0</td>\n",
       "    </tr>\n",
       "    <tr>\n",
       "      <th>5</th>\n",
       "      <td>1337</td>\n",
       "      <td>EliteCoin</td>\n",
       "      <td>X13</td>\n",
       "      <td>True</td>\n",
       "      <td>PoW/PoS</td>\n",
       "      <td>2.927942e+10</td>\n",
       "      <td>314159265359</td>\n",
       "    </tr>\n",
       "    <tr>\n",
       "      <th>6</th>\n",
       "      <td>2015</td>\n",
       "      <td>2015 coin</td>\n",
       "      <td>X11</td>\n",
       "      <td>True</td>\n",
       "      <td>PoW/PoS</td>\n",
       "      <td>NaN</td>\n",
       "      <td>0</td>\n",
       "    </tr>\n",
       "    <tr>\n",
       "      <th>7</th>\n",
       "      <td>BTC</td>\n",
       "      <td>Bitcoin</td>\n",
       "      <td>SHA-256</td>\n",
       "      <td>True</td>\n",
       "      <td>PoW</td>\n",
       "      <td>1.792718e+07</td>\n",
       "      <td>21000000</td>\n",
       "    </tr>\n",
       "    <tr>\n",
       "      <th>8</th>\n",
       "      <td>ETH</td>\n",
       "      <td>Ethereum</td>\n",
       "      <td>Ethash</td>\n",
       "      <td>True</td>\n",
       "      <td>PoW</td>\n",
       "      <td>1.076842e+08</td>\n",
       "      <td>0</td>\n",
       "    </tr>\n",
       "    <tr>\n",
       "      <th>9</th>\n",
       "      <td>LTC</td>\n",
       "      <td>Litecoin</td>\n",
       "      <td>Scrypt</td>\n",
       "      <td>True</td>\n",
       "      <td>PoW</td>\n",
       "      <td>6.303924e+07</td>\n",
       "      <td>84000000</td>\n",
       "    </tr>\n",
       "  </tbody>\n",
       "</table>\n",
       "</div>"
      ],
      "text/plain": [
       "  Unnamed: 0   CoinName Algorithm  IsTrading ProofType  TotalCoinsMined  \\\n",
       "0         42    42 Coin    Scrypt       True   PoW/PoS     4.199995e+01   \n",
       "1        365    365Coin       X11       True   PoW/PoS              NaN   \n",
       "2        404    404Coin    Scrypt       True   PoW/PoS     1.055185e+09   \n",
       "3        611  SixEleven   SHA-256       True       PoW              NaN   \n",
       "4        808        808   SHA-256       True   PoW/PoS     0.000000e+00   \n",
       "5       1337  EliteCoin       X13       True   PoW/PoS     2.927942e+10   \n",
       "6       2015  2015 coin       X11       True   PoW/PoS              NaN   \n",
       "7        BTC    Bitcoin   SHA-256       True       PoW     1.792718e+07   \n",
       "8        ETH   Ethereum    Ethash       True       PoW     1.076842e+08   \n",
       "9        LTC   Litecoin    Scrypt       True       PoW     6.303924e+07   \n",
       "\n",
       "  TotalCoinSupply  \n",
       "0              42  \n",
       "1      2300000000  \n",
       "2       532000000  \n",
       "3          611000  \n",
       "4               0  \n",
       "5    314159265359  \n",
       "6               0  \n",
       "7        21000000  \n",
       "8               0  \n",
       "9        84000000  "
      ]
     },
     "execution_count": 67,
     "metadata": {},
     "output_type": "execute_result"
    }
   ],
   "source": [
    "df.head(10)"
   ]
  },
  {
   "cell_type": "code",
   "execution_count": 68,
   "id": "4cf8c140",
   "metadata": {},
   "outputs": [
    {
     "data": {
      "text/plain": [
       "(1252, 7)"
      ]
     },
     "execution_count": 68,
     "metadata": {},
     "output_type": "execute_result"
    }
   ],
   "source": [
    "df.shape"
   ]
  },
  {
   "cell_type": "code",
   "execution_count": 69,
   "id": "b0ce4b51",
   "metadata": {},
   "outputs": [],
   "source": [
    "crypto=df.loc[   \n",
    "    \n",
    "    df['IsTrading']==True\n",
    "]"
   ]
  },
  {
   "cell_type": "code",
   "execution_count": 70,
   "id": "4d864925",
   "metadata": {},
   "outputs": [
    {
     "data": {
      "text/plain": [
       "(1144, 7)"
      ]
     },
     "execution_count": 70,
     "metadata": {},
     "output_type": "execute_result"
    }
   ],
   "source": [
    "crypto.shape\n"
   ]
  },
  {
   "cell_type": "code",
   "execution_count": 71,
   "id": "91a7d986",
   "metadata": {},
   "outputs": [
    {
     "data": {
      "text/plain": [
       "(1144, 6)"
      ]
     },
     "execution_count": 71,
     "metadata": {},
     "output_type": "execute_result"
    }
   ],
   "source": [
    "#drop IsTrading Column\n",
    "crypto = crypto.drop(labels='IsTrading', axis=1)\n",
    "crypto.shape"
   ]
  },
  {
   "cell_type": "code",
   "execution_count": 14,
   "id": "d3ceaaf3",
   "metadata": {},
   "outputs": [
    {
     "data": {
      "text/plain": [
       "(685, 6)"
      ]
     },
     "execution_count": 14,
     "metadata": {},
     "output_type": "execute_result"
    }
   ],
   "source": [
    "#Remove all rows that have at least one null value.\n",
    "crypto = crypto.dropna(how=\"any\")\n",
    "crypto.shape"
   ]
  },
  {
   "cell_type": "code",
   "execution_count": 15,
   "id": "f2894ef7",
   "metadata": {},
   "outputs": [
    {
     "data": {
      "text/plain": [
       "(532, 6)"
      ]
     },
     "execution_count": 15,
     "metadata": {},
     "output_type": "execute_result"
    }
   ],
   "source": [
    "# Filter for cryptocurrencies that have been mined. That is, the total coins mined should be greater than zero.\n",
    "crypto = crypto.loc[df['TotalCoinsMined']>0]\n",
    "crypto.shape"
   ]
  },
  {
   "cell_type": "code",
   "execution_count": null,
   "id": "00a438bb",
   "metadata": {},
   "outputs": [],
   "source": [
    "#machine learning algorithm, its data should be numeric"
   ]
  },
  {
   "cell_type": "code",
   "execution_count": 16,
   "id": "351d8a06",
   "metadata": {},
   "outputs": [
    {
     "data": {
      "text/plain": [
       "(532, 5)"
      ]
     },
     "execution_count": 16,
     "metadata": {},
     "output_type": "execute_result"
    }
   ],
   "source": [
    "#  delete the `CoinName` from the original dataframe\n",
    "crypto = crypto.drop(labels='CoinName',axis=1)\n",
    "crypto.shape"
   ]
  },
  {
   "cell_type": "code",
   "execution_count": 17,
   "id": "22fef339",
   "metadata": {},
   "outputs": [
    {
     "data": {
      "text/plain": [
       "(532, 4)"
      ]
     },
     "execution_count": 17,
     "metadata": {},
     "output_type": "execute_result"
    }
   ],
   "source": [
    "#delete the unnamed column(unnecessary)\n",
    "crypto = crypto.drop(labels='Unnamed: 0', axis=1)\n",
    "crypto.shape"
   ]
  },
  {
   "cell_type": "code",
   "execution_count": 18,
   "id": "57dfef3f",
   "metadata": {},
   "outputs": [
    {
     "data": {
      "text/html": [
       "<div>\n",
       "<style scoped>\n",
       "    .dataframe tbody tr th:only-of-type {\n",
       "        vertical-align: middle;\n",
       "    }\n",
       "\n",
       "    .dataframe tbody tr th {\n",
       "        vertical-align: top;\n",
       "    }\n",
       "\n",
       "    .dataframe thead th {\n",
       "        text-align: right;\n",
       "    }\n",
       "</style>\n",
       "<table border=\"1\" class=\"dataframe\">\n",
       "  <thead>\n",
       "    <tr style=\"text-align: right;\">\n",
       "      <th></th>\n",
       "      <th>Algorithm</th>\n",
       "      <th>ProofType</th>\n",
       "      <th>TotalCoinsMined</th>\n",
       "      <th>TotalCoinSupply</th>\n",
       "    </tr>\n",
       "  </thead>\n",
       "  <tbody>\n",
       "    <tr>\n",
       "      <th>0</th>\n",
       "      <td>Scrypt</td>\n",
       "      <td>PoW/PoS</td>\n",
       "      <td>4.199995e+01</td>\n",
       "      <td>42</td>\n",
       "    </tr>\n",
       "    <tr>\n",
       "      <th>2</th>\n",
       "      <td>Scrypt</td>\n",
       "      <td>PoW/PoS</td>\n",
       "      <td>1.055185e+09</td>\n",
       "      <td>532000000</td>\n",
       "    </tr>\n",
       "    <tr>\n",
       "      <th>5</th>\n",
       "      <td>X13</td>\n",
       "      <td>PoW/PoS</td>\n",
       "      <td>2.927942e+10</td>\n",
       "      <td>314159265359</td>\n",
       "    </tr>\n",
       "    <tr>\n",
       "      <th>7</th>\n",
       "      <td>SHA-256</td>\n",
       "      <td>PoW</td>\n",
       "      <td>1.792718e+07</td>\n",
       "      <td>21000000</td>\n",
       "    </tr>\n",
       "    <tr>\n",
       "      <th>8</th>\n",
       "      <td>Ethash</td>\n",
       "      <td>PoW</td>\n",
       "      <td>1.076842e+08</td>\n",
       "      <td>0</td>\n",
       "    </tr>\n",
       "    <tr>\n",
       "      <th>9</th>\n",
       "      <td>Scrypt</td>\n",
       "      <td>PoW</td>\n",
       "      <td>6.303924e+07</td>\n",
       "      <td>84000000</td>\n",
       "    </tr>\n",
       "    <tr>\n",
       "      <th>10</th>\n",
       "      <td>X11</td>\n",
       "      <td>PoW/PoS</td>\n",
       "      <td>9.031294e+06</td>\n",
       "      <td>22000000</td>\n",
       "    </tr>\n",
       "    <tr>\n",
       "      <th>11</th>\n",
       "      <td>CryptoNight-V7</td>\n",
       "      <td>PoW</td>\n",
       "      <td>1.720114e+07</td>\n",
       "      <td>0</td>\n",
       "    </tr>\n",
       "    <tr>\n",
       "      <th>12</th>\n",
       "      <td>Ethash</td>\n",
       "      <td>PoW</td>\n",
       "      <td>1.133597e+08</td>\n",
       "      <td>210000000</td>\n",
       "    </tr>\n",
       "    <tr>\n",
       "      <th>13</th>\n",
       "      <td>Equihash</td>\n",
       "      <td>PoW</td>\n",
       "      <td>7.383056e+06</td>\n",
       "      <td>21000000</td>\n",
       "    </tr>\n",
       "  </tbody>\n",
       "</table>\n",
       "</div>"
      ],
      "text/plain": [
       "         Algorithm ProofType  TotalCoinsMined TotalCoinSupply\n",
       "0           Scrypt   PoW/PoS     4.199995e+01              42\n",
       "2           Scrypt   PoW/PoS     1.055185e+09       532000000\n",
       "5              X13   PoW/PoS     2.927942e+10    314159265359\n",
       "7          SHA-256       PoW     1.792718e+07        21000000\n",
       "8           Ethash       PoW     1.076842e+08               0\n",
       "9           Scrypt       PoW     6.303924e+07        84000000\n",
       "10             X11   PoW/PoS     9.031294e+06        22000000\n",
       "11  CryptoNight-V7       PoW     1.720114e+07               0\n",
       "12          Ethash       PoW     1.133597e+08       210000000\n",
       "13        Equihash       PoW     7.383056e+06        21000000"
      ]
     },
     "execution_count": 18,
     "metadata": {},
     "output_type": "execute_result"
    }
   ],
   "source": [
    "crypto.head(10)"
   ]
  },
  {
   "cell_type": "code",
   "execution_count": 23,
   "id": "1aee9a15",
   "metadata": {},
   "outputs": [
    {
     "name": "stdout",
     "output_type": "stream",
     "text": [
      "<class 'pandas.core.frame.DataFrame'>\n",
      "Int64Index: 532 entries, 0 to 1247\n",
      "Data columns (total 4 columns):\n",
      " #   Column           Non-Null Count  Dtype  \n",
      "---  ------           --------------  -----  \n",
      " 0   Algorithm        532 non-null    object \n",
      " 1   ProofType        532 non-null    object \n",
      " 2   TotalCoinsMined  532 non-null    float64\n",
      " 3   TotalCoinSupply  532 non-null    object \n",
      "dtypes: float64(1), object(3)\n",
      "memory usage: 20.8+ KB\n"
     ]
    }
   ],
   "source": [
    "crypto.info()"
   ]
  },
  {
   "cell_type": "code",
   "execution_count": null,
   "id": "4f6445bf",
   "metadata": {},
   "outputs": [],
   "source": []
  },
  {
   "cell_type": "code",
   "execution_count": 26,
   "id": "cc4b59e4",
   "metadata": {},
   "outputs": [],
   "source": [
    "# convert the remaining features with text values, `Algorithm` and `ProofType`, into numerical dat\n",
    "crypto=pd.get_dummies(data=crypto, columns=[\"Algorithm\", \"ProofType\"])\n"
   ]
  },
  {
   "cell_type": "code",
   "execution_count": 32,
   "id": "3aa3b715",
   "metadata": {},
   "outputs": [],
   "source": [
    "#standardise the data\n",
    "from sklearn.preprocessing import StandardScaler\n",
    "\n",
    "crypto_scaled = StandardScaler().fit_transform(crypto)\n",
    "\n"
   ]
  },
  {
   "cell_type": "code",
   "execution_count": 36,
   "id": "82822dc3",
   "metadata": {},
   "outputs": [
    {
     "data": {
      "text/plain": [
       "numpy.ndarray"
      ]
     },
     "execution_count": 36,
     "metadata": {},
     "output_type": "execute_result"
    }
   ],
   "source": [
    "type(crypto_scaled)"
   ]
  },
  {
   "cell_type": "code",
   "execution_count": 33,
   "id": "81650b53",
   "metadata": {},
   "outputs": [
    {
     "data": {
      "text/plain": [
       "(532, 98)"
      ]
     },
     "execution_count": 33,
     "metadata": {},
     "output_type": "execute_result"
    }
   ],
   "source": [
    "# Examine the number of rows and columns of your dataset\n",
    "crypto_scaled.shape"
   ]
  },
  {
   "cell_type": "code",
   "execution_count": 37,
   "id": "a719b21b",
   "metadata": {},
   "outputs": [
    {
     "data": {
      "text/plain": [
       "array([-0.11710817, -0.1528703 , -0.0433963 , -0.0433963 , -0.0433963 ,\n",
       "       -0.06142951, -0.07530656, -0.0433963 , -0.06142951, -0.06142951,\n",
       "       -0.0433963 , -0.0433963 , -0.19245009, -0.06142951, -0.09740465,\n",
       "       -0.0433963 , -0.11547005, -0.07530656, -0.0433963 , -0.0433963 ,\n",
       "       -0.15191091, -0.0433963 , -0.13118084, -0.0433963 , -0.0433963 ,\n",
       "       -0.08703883, -0.0433963 , -0.0433963 , -0.0433963 , -0.0433963 ,\n",
       "       -0.06142951, -0.0433963 , -0.08703883, -0.08703883, -0.08703883,\n",
       "       -0.0433963 , -0.13118084, -0.13840913, -0.13840913, -0.0433963 ,\n",
       "       -0.06142951, -0.0433963 , -0.07530656, -0.18168574, -0.0433963 ,\n",
       "       -0.0433963 , -0.0433963 , -0.07530656, -0.15826614, -0.31491833,\n",
       "       -0.0433963 , -0.08703883, -0.07530656, -0.06142951,  1.38675049,\n",
       "       -0.0433963 , -0.0433963 , -0.06142951, -0.0433963 , -0.0433963 ,\n",
       "       -0.0433963 , -0.0433963 , -0.0433963 , -0.0433963 , -0.0433963 ,\n",
       "       -0.0433963 , -0.39879994, -0.0433963 , -0.18168574, -0.0433963 ,\n",
       "       -0.08703883, -0.08703883, -0.10680283, -0.0433963 , -0.13118084,\n",
       "       -0.0433963 , -0.0433963 , -0.0433963 , -0.0433963 , -0.07530656,\n",
       "       -0.43911856, -0.0433963 , -0.06142951, -0.0433963 , -0.0433963 ,\n",
       "       -0.89632016, -0.0433963 , -0.0433963 ,  1.42222617, -0.0433963 ,\n",
       "       -0.0433963 , -0.0433963 , -0.0433963 , -0.0433963 , -0.0433963 ,\n",
       "       -0.0433963 , -0.0433963 , -0.0433963 ])"
      ]
     },
     "execution_count": 37,
     "metadata": {},
     "output_type": "execute_result"
    }
   ],
   "source": [
    "crypto_scaled[0]"
   ]
  },
  {
   "cell_type": "code",
   "execution_count": 39,
   "id": "7af774ff",
   "metadata": {},
   "outputs": [
    {
     "data": {
      "text/plain": [
       "0       4.199995e+01\n",
       "2       1.055185e+09\n",
       "5       2.927942e+10\n",
       "7       1.792718e+07\n",
       "8       1.076842e+08\n",
       "            ...     \n",
       "1238    2.000000e+09\n",
       "1242    1.493105e+07\n",
       "1245    9.802226e+08\n",
       "1246    7.296538e+06\n",
       "1247    1.283270e+05\n",
       "Name: TotalCoinsMined, Length: 532, dtype: float64"
      ]
     },
     "execution_count": 39,
     "metadata": {},
     "output_type": "execute_result"
    }
   ],
   "source": [
    "crypto.iloc[:, 0]\n"
   ]
  },
  {
   "cell_type": "markdown",
   "id": "0902f706",
   "metadata": {},
   "source": [
    "# Perform dimensionality reduction with PCA\n",
    "\n"
   ]
  },
  {
   "cell_type": "code",
   "execution_count": 42,
   "id": "3e20615d",
   "metadata": {},
   "outputs": [
    {
     "data": {
      "text/plain": [
       "(532, 74)"
      ]
     },
     "execution_count": 42,
     "metadata": {},
     "output_type": "execute_result"
    }
   ],
   "source": [
    "#Perform dimensionality reduction with PCA\n",
    "# Initialize PCA model\n",
    "pca = PCA(n_components=0.9)\n",
    "\n",
    "# Get two principal components for the data.\n",
    "Crypto_pca = pca.fit_transform(crypto_scaled)\n",
    "\n",
    "Crypto_pca.shape"
   ]
  },
  {
   "cell_type": "code",
   "execution_count": 56,
   "id": "6abbc1c4",
   "metadata": {},
   "outputs": [
    {
     "name": "stderr",
     "output_type": "stream",
     "text": [
      "C:\\Users\\User\\anaconda3\\lib\\site-packages\\sklearn\\manifold\\_t_sne.py:780: FutureWarning: The default initialization in TSNE will change from 'random' to 'pca' in 1.2.\n",
      "  warnings.warn(\n",
      "C:\\Users\\User\\anaconda3\\lib\\site-packages\\sklearn\\manifold\\_t_sne.py:790: FutureWarning: The default learning rate in TSNE will change from 200.0 to 'auto' in 1.2.\n",
      "  warnings.warn(\n"
     ]
    },
    {
     "data": {
      "text/plain": [
       "(532, 2)"
      ]
     },
     "execution_count": 56,
     "metadata": {},
     "output_type": "execute_result"
    }
   ],
   "source": [
    "from sklearn.manifold import TSNE\n",
    "#reduce the dataset dimensions with t-SNE\n",
    "tsne = TSNE(n_components=2, perplexity=25.0)\n",
    "\n",
    "# Apply a fit-transform\n",
    "tsne_features = tsne.fit_transform(Crypto_pca)\n",
    "tsne_features.shape"
   ]
  },
  {
   "cell_type": "code",
   "execution_count": 57,
   "id": "bcaee2a3",
   "metadata": {},
   "outputs": [
    {
     "data": {
      "image/png": "[encoded data removed]",
      "text/plain": [
       "<Figure size 432x288 with 1 Axes>"
      ]
     },
     "metadata": {
      "needs_background": "light"
     },
     "output_type": "display_data"
    }
   ],
   "source": [
    "plt.scatter(x=tsne_features[:,0], y=tsne_features[:,1])\n",
    "plt.title('t-distributed stochastic neighbor embedding')\n",
    "plt.show()"
   ]
  },
  {
   "cell_type": "markdown",
   "id": "93450171",
   "metadata": {},
   "source": [
    "# Cluster Analysis with k-Means"
   ]
  },
  {
   "cell_type": "markdown",
   "id": "c1704e7c",
   "metadata": {},
   "source": [
    "from sklearn.cluster import KMeans\n"
   ]
  },
  {
   "cell_type": "code",
   "execution_count": 61,
   "id": "b8eadad5",
   "metadata": {},
   "outputs": [],
   "source": [
    "from sklearn.cluster import KMeans\n",
    "import numpy as np"
   ]
  },
  {
   "cell_type": "code",
   "execution_count": 72,
   "id": "7371c0e3",
   "metadata": {},
   "outputs": [
    {
     "name": "stderr",
     "output_type": "stream",
     "text": [
      "C:\\Users\\User\\anaconda3\\lib\\site-packages\\sklearn\\cluster\\_kmeans.py:1039: UserWarning: KMeans is known to have a memory leak on Windows with MKL, when there are less chunks than available threads. You can avoid it by setting the environment variable OMP_NUM_THREADS=3.\n",
      "  warnings.warn(\n"
     ]
    },
    {
     "data": {
      "image/png": "[encoded data removed]",
      "text/plain": [
       "<Figure size 432x288 with 1 Axes>"
      ]
     },
     "metadata": {
      "needs_background": "light"
     },
     "output_type": "display_data"
    }
   ],
   "source": [
    "inertia = []\n",
    "k_list = np.arange(1,51, 5)\n",
    "\n",
    "# Looking for the best k\n",
    "for k in k_list:\n",
    "    km = KMeans(n_clusters=k, random_state=0)\n",
    "    km.fit(Crypto_pca)\n",
    "    inertia.append(km.inertia_)\n",
    "\n",
    "# Plot the Elbow Curve\n",
    "plt.plot(k_list, inertia)\n",
    "plt.xticks(k_list)\n",
    "plt.xlabel('Number of clusters')\n",
    "plt.ylabel('Inertia')\n",
    "plt.show()"
   ]
  },
  {
   "cell_type": "code",
   "execution_count": null,
   "id": "6f4d124a",
   "metadata": {},
   "outputs": [],
   "source": []
  }
 ],
 "metadata": {
  "kernelspec": {
   "display_name": "Python 3",
   "language": "python",
   "name": "python3"
  },
  "language_info": {
   "codemirror_mode": {
    "name": "ipython",
    "version": 3
   },
   "file_extension": ".py",
   "mimetype": "text/x-python",
   "name": "python",
   "nbconvert_exporter": "python",
   "pygments_lexer": "ipython3",
   "version": "3.8.8"
  }
 },
 "nbformat": 4,
 "nbformat_minor": 5
}
